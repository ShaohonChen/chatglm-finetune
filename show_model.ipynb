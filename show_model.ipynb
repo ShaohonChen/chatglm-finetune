{
 "cells": [
  {
   "cell_type": "markdown",
   "metadata": {},
   "source": [
    "## 基座模型推理"
   ]
  },
  {
   "cell_type": "code",
   "execution_count": 17,
   "metadata": {},
   "outputs": [
    {
     "name": "stderr",
     "output_type": "stream",
     "text": [
      "Loading checkpoint shards: 100%|██████████| 4/4 [00:01<00:00,  2.35it/s]\n"
     ]
    },
    {
     "name": "stdout",
     "output_type": "stream",
     "text": [
      "[gMASK]<sop>我是ChatGLM，是人工智能助手。我是ChatGLM，是人工智能助手。我是ChatGLM，是人工智能助手\n"
     ]
    }
   ],
   "source": [
    "from transformers import AutoTokenizer, AutoModelForCausalLM\n",
    "device = \"cuda\"\n",
    "tokenizer = AutoTokenizer.from_pretrained(\"weights/glm-4-9b-chat-hf\")\n",
    "model = AutoModelForCausalLM.from_pretrained(\"weights/glm-4-9b-chat-hf\").eval().to(device)\n",
    "inputs = tokenizer.encode(\"我是ChatGLM，是\", return_tensors=\"pt\").to(device)\n",
    "outputs = model.generate(inputs)\n",
    "print(tokenizer.decode(outputs[0]))"
   ]
  },
  {
   "cell_type": "markdown",
   "metadata": {},
   "source": [
    "## Chat模型推理"
   ]
  },
  {
   "cell_type": "code",
   "execution_count": 1,
   "metadata": {},
   "outputs": [
    {
     "name": "stderr",
     "output_type": "stream",
     "text": [
      "/home/chenshaohon/miniconda3/envs/em-llm/lib/python3.12/site-packages/tqdm/auto.py:21: TqdmWarning: IProgress not found. Please update jupyter and ipywidgets. See https://ipywidgets.readthedocs.io/en/stable/user_install.html\n",
      "  from .autonotebook import tqdm as notebook_tqdm\n",
      "Loading checkpoint shards: 100%|██████████| 4/4 [00:01<00:00,  2.33it/s]\n"
     ]
    },
    {
     "name": "stdout",
     "output_type": "stream",
     "text": [
      "['[gMASK]<sop><|user|>\\n你好，告诉我你的名字。<|assistant|>\\n你好，我是一个人工智能助手，你可以叫我 ChatGLM。<|user|>\\n告诉我苹果的英文？<|assistant|>\\n苹果的英文是 \"apple\"。<|user|>', '<|endoftext|><|endoftext|><|endoftext|><|endoftext|><|endoftext|><|endoftext|><|endoftext|><|endoftext|><|endoftext|><|endoftext|><|endoftext|><|endoftext|><|endoftext|><|endoftext|><|endoftext|><|endoftext|><|endoftext|><|endoftext|><|endoftext|><|endoftext|>[gMASK]<sop><|user|>\\n告诉我1+2等于多少？<|assistant|>\\n1+2等于3。<|user|><|endoftext|>']\n"
     ]
    }
   ],
   "source": [
    "from transformers import AutoTokenizer, AutoModelForCausalLM\n",
    "\n",
    "device = \"cuda\"\n",
    "tokenizer = AutoTokenizer.from_pretrained(\"weights/glm-4-9b-chat-hf\")\n",
    "model = (\n",
    "    AutoModelForCausalLM.from_pretrained(\"weights/glm-4-9b-chat-hf\").eval().to(device)\n",
    ")\n",
    "batch_test_message = [\n",
    "    [\n",
    "        {\"role\": \"user\", \"content\": \"你好，告诉我你的名字。\"},\n",
    "        {\n",
    "            \"role\": \"assistant\",\n",
    "            \"content\": \"你好，我是一个人工智能助手，你可以叫我 ChatGLM。\",\n",
    "        },\n",
    "        {\"role\": \"user\", \"content\": \"告诉我苹果的英文？\"},\n",
    "    ],\n",
    "    [{\"role\": \"user\", \"content\": \"告诉我1+2等于多少？\"}],\n",
    "]\n",
    "batch_inputs_text = tokenizer.apply_chat_template(\n",
    "    batch_test_message, return_tensors=\"pt\", return_dict=True, padding=True, padding_side=\"left\",add_generation_prompt=True\n",
    ").to(device)\n",
    "\n",
    "# print(batch_inputs_text)\n",
    "outputs = model.generate(**batch_inputs_text)\n",
    "response_batch = tokenizer.batch_decode(outputs, skip_special_tokens=False)\n",
    "print(response_batch)"
   ]
  },
  {
   "cell_type": "markdown",
   "metadata": {},
   "source": [
    "## Chat模型（pipeline模式）"
   ]
  },
  {
   "cell_type": "code",
   "execution_count": 19,
   "metadata": {},
   "outputs": [
    {
     "name": "stderr",
     "output_type": "stream",
     "text": [
      "Loading checkpoint shards: 100%|██████████| 4/4 [00:01<00:00,  2.35it/s]\n",
      "Device set to use cuda:0\n"
     ]
    },
    {
     "name": "stdout",
     "output_type": "stream",
     "text": [
      "[{'generated_text': [{'role': 'user', 'content': '你是谁'}, {'role': 'assistant', 'content': '\\n我是一个人工智能助手，名为 ChatGLM。我是基于清华大学 KEG 实验室和'}]}]\n"
     ]
    }
   ],
   "source": [
    "from transformers import pipeline\n",
    "\n",
    "messages = [\n",
    "    {\"role\": \"user\", \"content\": \"你是谁\"},\n",
    "]\n",
    "pipe = pipeline(\"text-generation\", model=\"weights/glm-4-9b-chat-hf\")\n",
    "print(pipe(messages))"
   ]
  },
  {
   "cell_type": "markdown",
   "metadata": {},
   "source": [
    "## 打印模型结构"
   ]
  },
  {
   "cell_type": "code",
   "execution_count": 20,
   "metadata": {},
   "outputs": [
    {
     "name": "stdout",
     "output_type": "stream",
     "text": [
      "GlmForCausalLM(\n",
      "  (model): GlmModel(\n",
      "    (embed_tokens): Embedding(151552, 4096, padding_idx=151329)\n",
      "    (layers): ModuleList(\n",
      "      (0-39): 40 x GlmDecoderLayer(\n",
      "        (self_attn): GlmAttention(\n",
      "          (q_proj): Linear(in_features=4096, out_features=4096, bias=True)\n",
      "          (k_proj): Linear(in_features=4096, out_features=256, bias=True)\n",
      "          (v_proj): Linear(in_features=4096, out_features=256, bias=True)\n",
      "          (o_proj): Linear(in_features=4096, out_features=4096, bias=False)\n",
      "        )\n",
      "        (mlp): GlmMLP(\n",
      "          (gate_up_proj): Linear(in_features=4096, out_features=27392, bias=False)\n",
      "          (down_proj): Linear(in_features=13696, out_features=4096, bias=False)\n",
      "          (activation_fn): SiLU()\n",
      "        )\n",
      "        (input_layernorm): GlmRMSNorm((4096,), eps=1.5625e-07)\n",
      "        (post_attention_layernorm): GlmRMSNorm((4096,), eps=1.5625e-07)\n",
      "      )\n",
      "    )\n",
      "    (norm): GlmRMSNorm((4096,), eps=1.5625e-07)\n",
      "    (rotary_emb): GlmRotaryEmbedding()\n",
      "  )\n",
      "  (lm_head): Linear(in_features=4096, out_features=151552, bias=False)\n",
      ")\n"
     ]
    }
   ],
   "source": [
    "print(model)"
   ]
  }
 ],
 "metadata": {
  "kernelspec": {
   "display_name": "em-llm",
   "language": "python",
   "name": "python3"
  },
  "language_info": {
   "codemirror_mode": {
    "name": "ipython",
    "version": 3
   },
   "file_extension": ".py",
   "mimetype": "text/x-python",
   "name": "python",
   "nbconvert_exporter": "python",
   "pygments_lexer": "ipython3",
   "version": "3.12.9"
  }
 },
 "nbformat": 4,
 "nbformat_minor": 2
}
